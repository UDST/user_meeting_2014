{
 "metadata": {
  "name": "",
  "signature": "sha256:7ae65e02841dad2c37be55388e4d9e7361bcc4eaf4d2a6f8cdee5d15bc8bb669"
 },
 "nbformat": 3,
 "nbformat_minor": 0,
 "worksheets": [
  {
   "cells": [
    {
     "cell_type": "code",
     "collapsed": false,
     "input": [
      "import glob\n",
      "import subprocess\n",
      "\n",
      "import matplotlib.pyplot as plt\n",
      "import pandas as pd\n",
      "import urbansim.sim.simulation as sim\n",
      "from brewer2mpl import qualitative"
     ],
     "language": "python",
     "metadata": {},
     "outputs": [],
     "prompt_number": 1
    },
    {
     "cell_type": "code",
     "collapsed": false,
     "input": [
      "plt.rc('axes', color_cycle=qualitative.Paired['max'].mpl_colors)"
     ],
     "language": "python",
     "metadata": {},
     "outputs": [],
     "prompt_number": 2
    },
    {
     "cell_type": "code",
     "collapsed": false,
     "input": [
      "@sim.table(cache=True)\n",
      "def precip_all():\n",
      "    filen = 'data/precip_data.csv'\n",
      "    df = pd.read_csv(filen)\n",
      "    return df.query('month not in [\"Oct-Sep\", \"Wat-Yr\"]')"
     ],
     "language": "python",
     "metadata": {},
     "outputs": [],
     "prompt_number": 3
    },
    {
     "cell_type": "code",
     "collapsed": false,
     "input": [
      "@sim.table('precip')\n",
      "def precip_year(precip_all, year):\n",
      "    df = precip_all.to_frame().loc[precip_all.year == year]\n",
      "    return df.groupby(['region', 'month']).precip.sum().unstack()"
     ],
     "language": "python",
     "metadata": {},
     "outputs": [],
     "prompt_number": 4
    },
    {
     "cell_type": "code",
     "collapsed": false,
     "input": [
      "@sim.column('precip', cache=True)\n",
      "def station_count(precip_all):\n",
      "    return precip_all.to_frame().groupby('region').station.unique().apply(len)"
     ],
     "language": "python",
     "metadata": {},
     "outputs": [],
     "prompt_number": 5
    },
    {
     "cell_type": "code",
     "collapsed": false,
     "input": [
      "@sim.injectable(cache=True)\n",
      "def months():\n",
      "    # months in their order within a water year (Oct - Sep)\n",
      "    return [\n",
      "        'Oct', 'Nov', 'Dec', 'Jan', 'Feb', 'Mar',\n",
      "        'Apr', 'May', 'Jun', 'Jul', 'Aug', 'Sep']"
     ],
     "language": "python",
     "metadata": {},
     "outputs": [],
     "prompt_number": 6
    },
    {
     "cell_type": "code",
     "collapsed": false,
     "input": [
      "@sim.injectable()\n",
      "def figax(months, year):\n",
      "    fig, ax = plt.subplots(figsize=(12, 6))\n",
      "    ax.set_title('{} - {}'.format(year - 1, year))\n",
      "    ax.set_ylabel('Precip (in)')\n",
      "    ax.set_xticks(range(12))\n",
      "    ax.set_xticklabels(months)\n",
      "    ax.set_ylim(bottom=0, top=14)\n",
      "    return fig, ax"
     ],
     "language": "python",
     "metadata": {},
     "outputs": [],
     "prompt_number": 7
    },
    {
     "cell_type": "code",
     "collapsed": false,
     "input": [
      "@sim.injectable()\n",
      "def figure_name(year):\n",
      "    return 'precip_{}.png'.format(year)"
     ],
     "language": "python",
     "metadata": {},
     "outputs": [],
     "prompt_number": 8
    },
    {
     "cell_type": "code",
     "collapsed": false,
     "input": [
      "@sim.injectable()\n",
      "def fig_name_gif(figure_name):\n",
      "    return figure_name.replace('png', 'gif')"
     ],
     "language": "python",
     "metadata": {},
     "outputs": [],
     "prompt_number": 9
    },
    {
     "cell_type": "code",
     "collapsed": false,
     "input": [
      "@sim.model()\n",
      "def precip_plots(precip, months, figax, figure_name):\n",
      "    df = precip.to_frame()\n",
      "    fig, ax = figax\n",
      "    \n",
      "    with plt.style.context('bmh'):\n",
      "        for idx, row in df.iterrows():\n",
      "            ax.plot(row[months].values / row['station_count'], label=idx)\n",
      "\n",
      "        fig.tight_layout()    \n",
      "        \n",
      "        # Shrink current axis by 25%\n",
      "        box = ax.get_position()\n",
      "        ax.set_position([box.x0, box.y0, box.width * 0.75, box.height])\n",
      "            \n",
      "        ax.legend(loc='upper left', bbox_to_anchor=(1, 0.95), fontsize='medium')\n",
      "        \n",
      "    fig.savefig(figure_name)\n",
      "    \n",
      "    plt.close(fig)"
     ],
     "language": "python",
     "metadata": {},
     "outputs": [],
     "prompt_number": 10
    },
    {
     "cell_type": "code",
     "collapsed": false,
     "input": [
      "@sim.model()\n",
      "def convert_figure(figure_name, fig_name_gif):\n",
      "    # convert png figures to gif using imagemagick\n",
      "    subprocess.call(['convert', figure_name, fig_name_gif])"
     ],
     "language": "python",
     "metadata": {},
     "outputs": [],
     "prompt_number": 11
    },
    {
     "cell_type": "code",
     "collapsed": false,
     "input": [
      "sim.run(['precip_plots', 'convert_figure'], years=[2011, 2012, 2013, 2014])"
     ],
     "language": "python",
     "metadata": {},
     "outputs": [
      {
       "output_type": "stream",
       "stream": "stdout",
       "text": [
        "Running year 2011\n",
        "Running model 'precip_plots'\n",
        "Time to execute model 'precip_plots': 0.57s"
       ]
      },
      {
       "output_type": "stream",
       "stream": "stdout",
       "text": [
        "\n",
        "Running model 'convert_figure'\n",
        "Time to execute model 'convert_figure': 0.33s"
       ]
      },
      {
       "output_type": "stream",
       "stream": "stdout",
       "text": [
        "\n",
        "Total time to execute year 2011: 0.90s\n",
        "Running year 2012\n",
        "Running model 'precip_plots'\n",
        "Time to execute model 'precip_plots': 0.38s"
       ]
      },
      {
       "output_type": "stream",
       "stream": "stdout",
       "text": [
        "\n",
        "Running model 'convert_figure'\n",
        "Time to execute model 'convert_figure': 0.27s"
       ]
      },
      {
       "output_type": "stream",
       "stream": "stdout",
       "text": [
        "\n",
        "Total time to execute year 2012: 0.65s\n",
        "Running year 2013\n",
        "Running model 'precip_plots'\n",
        "Time to execute model 'precip_plots': 0.45s"
       ]
      },
      {
       "output_type": "stream",
       "stream": "stdout",
       "text": [
        "\n",
        "Running model 'convert_figure'\n",
        "Time to execute model 'convert_figure': 0.32s"
       ]
      },
      {
       "output_type": "stream",
       "stream": "stdout",
       "text": [
        "\n",
        "Total time to execute year 2013: 0.77s\n",
        "Running year 2014\n",
        "Running model 'precip_plots'\n",
        "Time to execute model 'precip_plots': 0.45s"
       ]
      },
      {
       "output_type": "stream",
       "stream": "stdout",
       "text": [
        "\n",
        "Running model 'convert_figure'\n",
        "Time to execute model 'convert_figure': 0.27s"
       ]
      },
      {
       "output_type": "stream",
       "stream": "stdout",
       "text": [
        "\n",
        "Total time to execute year 2014: 0.73s\n"
       ]
      },
      {
       "output_type": "stream",
       "stream": "stderr",
       "text": [
        "/Users/jiffyclub/miniconda3/envs/urbansim/lib/python2.7/site-packages/matplotlib/tight_layout.py:225: UserWarning: tight_layout : falling back to Agg renderer\n",
        "  warnings.warn(\"tight_layout : falling back to Agg renderer\")\n"
       ]
      }
     ],
     "prompt_number": 12
    },
    {
     "cell_type": "code",
     "collapsed": false,
     "input": [
      "# create animated gif\n",
      "subprocess.call(\n",
      "    ['convert', '-delay', '100'] + glob.glob('precip*.gif') + ['-loop', '0', 'animation.gif'])"
     ],
     "language": "python",
     "metadata": {},
     "outputs": [
      {
       "metadata": {},
       "output_type": "pyout",
       "prompt_number": 13,
       "text": [
        "0"
       ]
      }
     ],
     "prompt_number": 13
    },
    {
     "cell_type": "code",
     "collapsed": false,
     "input": [],
     "language": "python",
     "metadata": {},
     "outputs": []
    }
   ],
   "metadata": {}
  }
 ]
}