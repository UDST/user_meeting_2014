{
 "metadata": {
  "name": "",
  "signature": "sha256:e56a36d88b625ab2fb9d6ad57683369cbc0ec6436484e7c2c45d43d7a2c68911"
 },
 "nbformat": 3,
 "nbformat_minor": 0,
 "worksheets": [
  {
   "cells": [
    {
     "cell_type": "code",
     "collapsed": false,
     "input": [
      "import numpy as np\n",
      "import pandas as pd\n",
      "import pandana as pdna\n",
      "from urbansim.utils import misc"
     ],
     "language": "python",
     "metadata": {},
     "outputs": [],
     "prompt_number": 1
    },
    {
     "cell_type": "heading",
     "level": 2,
     "metadata": {},
     "source": [
      "Read inputs"
     ]
    },
    {
     "cell_type": "code",
     "collapsed": false,
     "input": [
      "blocks = pd.read_csv('blocks.csv', index_col='block_id')\n",
      "nodes = pd.read_csv('nodes.csv', index_col='index')\n",
      "edges = pd.read_csv('edges.csv')"
     ],
     "language": "python",
     "metadata": {},
     "outputs": [],
     "prompt_number": 2
    },
    {
     "cell_type": "code",
     "collapsed": false,
     "input": [
      "print nodes.head()\n",
      "print edges.head()\n",
      "print blocks.head()"
     ],
     "language": "python",
     "metadata": {},
     "outputs": [
      {
       "output_type": "stream",
       "stream": "stdout",
       "text": [
        "               x          y\n",
        "index                      \n",
        "1     -94.053169  45.409967\n",
        "2     -94.053118  45.409654\n",
        "3     -94.052823  45.014833\n",
        "4     -94.051426  44.717365\n",
        "5     -94.051098  44.731804\n",
        "     from      to       weight\n",
        "0   18775   21014  2620.590400\n",
        "1  111691  111601   197.504970\n",
        "2  111601  111412   141.233490\n",
        "3  111412  111200   168.837260\n",
        "4  111200  111098    94.149396\n",
        "          residential_units  population  jobs10  jobs11          x          y\n",
        "block_id                                                                     \n",
        "7470461                  45         156       0       0 -93.409909  45.236692\n",
        "7469363                  19          58       0       0 -93.457531  45.371221\n",
        "7548383                  14          44       0       0 -93.294164  44.854426\n",
        "2467747                   8          28       2       0 -93.049509  44.858161\n",
        "7521337                  10          31       0       0 -93.158966  44.762643\n"
       ]
      }
     ],
     "prompt_number": 3
    },
    {
     "cell_type": "heading",
     "level": 2,
     "metadata": {},
     "source": [
      "Initialize the network"
     ]
    },
    {
     "cell_type": "code",
     "collapsed": false,
     "input": [
      "net = pdna.Network(nodes[\"x\"], nodes[\"y\"], edges[\"from\"], edges[\"to\"],\n",
      "                       edges[[\"weight\"]])\n",
      "net.precompute(5000)"
     ],
     "language": "python",
     "metadata": {},
     "outputs": [],
     "prompt_number": 4
    },
    {
     "cell_type": "heading",
     "level": 2,
     "metadata": {},
     "source": [
      "Attach node ids"
     ]
    },
    {
     "cell_type": "code",
     "collapsed": false,
     "input": [
      "blocks['node_id'] = net.get_node_ids(blocks['x'], blocks['y'])"
     ],
     "language": "python",
     "metadata": {},
     "outputs": [],
     "prompt_number": 5
    },
    {
     "cell_type": "code",
     "collapsed": false,
     "input": [
      "blocks.head()"
     ],
     "language": "python",
     "metadata": {},
     "outputs": [
      {
       "html": [
        "<div style=\"max-height:1000px;max-width:1500px;overflow:auto;\">\n",
        "<table border=\"1\" class=\"dataframe\">\n",
        "  <thead>\n",
        "    <tr style=\"text-align: right;\">\n",
        "      <th></th>\n",
        "      <th>residential_units</th>\n",
        "      <th>population</th>\n",
        "      <th>jobs10</th>\n",
        "      <th>jobs11</th>\n",
        "      <th>x</th>\n",
        "      <th>y</th>\n",
        "      <th>node_id</th>\n",
        "    </tr>\n",
        "    <tr>\n",
        "      <th>block_id</th>\n",
        "      <th></th>\n",
        "      <th></th>\n",
        "      <th></th>\n",
        "      <th></th>\n",
        "      <th></th>\n",
        "      <th></th>\n",
        "      <th></th>\n",
        "    </tr>\n",
        "  </thead>\n",
        "  <tbody>\n",
        "    <tr>\n",
        "      <th>7470461</th>\n",
        "      <td> 45</td>\n",
        "      <td> 156</td>\n",
        "      <td> 0</td>\n",
        "      <td> 0</td>\n",
        "      <td>-93.409909</td>\n",
        "      <td> 45.236692</td>\n",
        "      <td>  40807</td>\n",
        "    </tr>\n",
        "    <tr>\n",
        "      <th>7469363</th>\n",
        "      <td> 19</td>\n",
        "      <td>  58</td>\n",
        "      <td> 0</td>\n",
        "      <td> 0</td>\n",
        "      <td>-93.457531</td>\n",
        "      <td> 45.371221</td>\n",
        "      <td>  32778</td>\n",
        "    </tr>\n",
        "    <tr>\n",
        "      <th>7548383</th>\n",
        "      <td> 14</td>\n",
        "      <td>  44</td>\n",
        "      <td> 0</td>\n",
        "      <td> 0</td>\n",
        "      <td>-93.294164</td>\n",
        "      <td> 44.854426</td>\n",
        "      <td>  66157</td>\n",
        "    </tr>\n",
        "    <tr>\n",
        "      <th>2467747</th>\n",
        "      <td>  8</td>\n",
        "      <td>  28</td>\n",
        "      <td> 2</td>\n",
        "      <td> 0</td>\n",
        "      <td>-93.049509</td>\n",
        "      <td> 44.858161</td>\n",
        "      <td> 112068</td>\n",
        "    </tr>\n",
        "    <tr>\n",
        "      <th>7521337</th>\n",
        "      <td> 10</td>\n",
        "      <td>  31</td>\n",
        "      <td> 0</td>\n",
        "      <td> 0</td>\n",
        "      <td>-93.158966</td>\n",
        "      <td> 44.762643</td>\n",
        "      <td>  97163</td>\n",
        "    </tr>\n",
        "  </tbody>\n",
        "</table>\n",
        "</div>"
       ],
       "metadata": {},
       "output_type": "pyout",
       "prompt_number": 6,
       "text": [
        "          residential_units  population  jobs10  jobs11          x          y  \\\n",
        "block_id                                                                        \n",
        "7470461                  45         156       0       0 -93.409909  45.236692   \n",
        "7469363                  19          58       0       0 -93.457531  45.371221   \n",
        "7548383                  14          44       0       0 -93.294164  44.854426   \n",
        "2467747                   8          28       2       0 -93.049509  44.858161   \n",
        "7521337                  10          31       0       0 -93.158966  44.762643   \n",
        "\n",
        "          node_id  \n",
        "block_id           \n",
        "7470461     40807  \n",
        "7469363     32778  \n",
        "7548383     66157  \n",
        "2467747    112068  \n",
        "7521337     97163  "
       ]
      }
     ],
     "prompt_number": 6
    },
    {
     "cell_type": "heading",
     "level": 2,
     "metadata": {},
     "source": [
      "Set a variable on the network"
     ]
    },
    {
     "cell_type": "code",
     "collapsed": false,
     "input": [
      "net.set(blocks.node_id, variable = blocks.jobs11)"
     ],
     "language": "python",
     "metadata": {},
     "outputs": [],
     "prompt_number": 7
    },
    {
     "cell_type": "heading",
     "level": 2,
     "metadata": {},
     "source": [
      "Run query"
     ]
    },
    {
     "cell_type": "code",
     "collapsed": false,
     "input": [
      "results = net.aggregate(800, type='sum', decay='linear')"
     ],
     "language": "python",
     "metadata": {},
     "outputs": [],
     "prompt_number": 8
    },
    {
     "cell_type": "heading",
     "level": 2,
     "metadata": {},
     "source": [
      "Visualize results"
     ]
    },
    {
     "cell_type": "code",
     "collapsed": false,
     "input": [
      "blocks['node_indicator'] = misc.reindex(results, blocks.node_id)\n",
      "\n",
      "blocks[['node_indicator']].to_csv(\"access_indicator.csv\")"
     ],
     "language": "python",
     "metadata": {},
     "outputs": [],
     "prompt_number": 9
    },
    {
     "cell_type": "code",
     "collapsed": false,
     "input": [],
     "language": "python",
     "metadata": {},
     "outputs": [],
     "prompt_number": 9
    },
    {
     "cell_type": "code",
     "collapsed": false,
     "input": [],
     "language": "python",
     "metadata": {},
     "outputs": [],
     "prompt_number": 9
    },
    {
     "cell_type": "heading",
     "level": 2,
     "metadata": {},
     "source": [
      "Example 2"
     ]
    },
    {
     "cell_type": "heading",
     "level": 2,
     "metadata": {},
     "source": [
      "Multiple variables can be assigned to the network and named"
     ]
    },
    {
     "cell_type": "code",
     "collapsed": false,
     "input": [
      "blocks.head()"
     ],
     "language": "python",
     "metadata": {},
     "outputs": [
      {
       "html": [
        "<div style=\"max-height:1000px;max-width:1500px;overflow:auto;\">\n",
        "<table border=\"1\" class=\"dataframe\">\n",
        "  <thead>\n",
        "    <tr style=\"text-align: right;\">\n",
        "      <th></th>\n",
        "      <th>residential_units</th>\n",
        "      <th>population</th>\n",
        "      <th>jobs10</th>\n",
        "      <th>jobs11</th>\n",
        "      <th>x</th>\n",
        "      <th>y</th>\n",
        "      <th>node_id</th>\n",
        "      <th>node_indicator</th>\n",
        "    </tr>\n",
        "    <tr>\n",
        "      <th>block_id</th>\n",
        "      <th></th>\n",
        "      <th></th>\n",
        "      <th></th>\n",
        "      <th></th>\n",
        "      <th></th>\n",
        "      <th></th>\n",
        "      <th></th>\n",
        "      <th></th>\n",
        "    </tr>\n",
        "  </thead>\n",
        "  <tbody>\n",
        "    <tr>\n",
        "      <th>7470461</th>\n",
        "      <td> 45</td>\n",
        "      <td> 156</td>\n",
        "      <td> 0</td>\n",
        "      <td> 0</td>\n",
        "      <td>-93.409909</td>\n",
        "      <td> 45.236692</td>\n",
        "      <td>  40807</td>\n",
        "      <td>   0.045699</td>\n",
        "    </tr>\n",
        "    <tr>\n",
        "      <th>7469363</th>\n",
        "      <td> 19</td>\n",
        "      <td>  58</td>\n",
        "      <td> 0</td>\n",
        "      <td> 0</td>\n",
        "      <td>-93.457531</td>\n",
        "      <td> 45.371221</td>\n",
        "      <td>  32778</td>\n",
        "      <td>   0.000000</td>\n",
        "    </tr>\n",
        "    <tr>\n",
        "      <th>7548383</th>\n",
        "      <td> 14</td>\n",
        "      <td>  44</td>\n",
        "      <td> 0</td>\n",
        "      <td> 0</td>\n",
        "      <td>-93.294164</td>\n",
        "      <td> 44.854426</td>\n",
        "      <td>  66157</td>\n",
        "      <td> 287.063629</td>\n",
        "    </tr>\n",
        "    <tr>\n",
        "      <th>2467747</th>\n",
        "      <td>  8</td>\n",
        "      <td>  28</td>\n",
        "      <td> 2</td>\n",
        "      <td> 0</td>\n",
        "      <td>-93.049509</td>\n",
        "      <td> 44.858161</td>\n",
        "      <td> 112068</td>\n",
        "      <td> 113.389618</td>\n",
        "    </tr>\n",
        "    <tr>\n",
        "      <th>7521337</th>\n",
        "      <td> 10</td>\n",
        "      <td>  31</td>\n",
        "      <td> 0</td>\n",
        "      <td> 0</td>\n",
        "      <td>-93.158966</td>\n",
        "      <td> 44.762643</td>\n",
        "      <td>  97163</td>\n",
        "      <td>   0.640867</td>\n",
        "    </tr>\n",
        "  </tbody>\n",
        "</table>\n",
        "</div>"
       ],
       "metadata": {},
       "output_type": "pyout",
       "prompt_number": 10,
       "text": [
        "          residential_units  population  jobs10  jobs11          x          y  \\\n",
        "block_id                                                                        \n",
        "7470461                  45         156       0       0 -93.409909  45.236692   \n",
        "7469363                  19          58       0       0 -93.457531  45.371221   \n",
        "7548383                  14          44       0       0 -93.294164  44.854426   \n",
        "2467747                   8          28       2       0 -93.049509  44.858161   \n",
        "7521337                  10          31       0       0 -93.158966  44.762643   \n",
        "\n",
        "          node_id  node_indicator  \n",
        "block_id                           \n",
        "7470461     40807        0.045699  \n",
        "7469363     32778        0.000000  \n",
        "7548383     66157      287.063629  \n",
        "2467747    112068      113.389618  \n",
        "7521337     97163        0.640867  "
       ]
      }
     ],
     "prompt_number": 10
    },
    {
     "cell_type": "code",
     "collapsed": false,
     "input": [
      "net.set(blocks.node_id, variable = blocks.jobs11, name='jobs2011')\n",
      "net.set(blocks.node_id, variable = blocks.jobs10, name='jobs2010')\n",
      "net.set(blocks.node_id, variable = blocks.residential_units, name='residential_units')\n",
      "net.set(blocks.node_id, variable = blocks.population, name='population')\n",
      "\n",
      "blocks['emp_change'] = blocks.jobs11 - blocks.jobs10\n",
      "net.set(blocks.node_id, variable = blocks.emp_change, name='emp_change')\n"
     ],
     "language": "python",
     "metadata": {},
     "outputs": [],
     "prompt_number": 11
    },
    {
     "cell_type": "code",
     "collapsed": false,
     "input": [
      "jobs2010 = net.aggregate(5000, type='sum', decay='flat', name = 'jobs2010')\n",
      "jobs2011 = net.aggregate(5000, type='sum', decay='flat', name = 'jobs2011')\n",
      "emp_change = net.aggregate(5000, type='sum', decay='flat', name = 'emp_change')\n",
      "population = net.aggregate(5000, type='sum', decay='flat', name = 'population')\n",
      "residential_units = net.aggregate(5000, type='sum', decay='flat', name = 'residential_units')\n",
      "persons_per_unit = population/residential_units\n",
      "jobs_per_resunit = jobs2010/residential_units"
     ],
     "language": "python",
     "metadata": {},
     "outputs": [],
     "prompt_number": 12
    },
    {
     "cell_type": "code",
     "collapsed": false,
     "input": [
      "blocks_for_export = pd.DataFrame({'jobs2010':misc.reindex(jobs2010, blocks.node_id),\n",
      "                                  'jobs2011':misc.reindex(jobs2011, blocks.node_id),\n",
      "                                  'emp_change':misc.reindex(emp_change, blocks.node_id),\n",
      "                                  'pop':misc.reindex(population, blocks.node_id),\n",
      "                                  'ru':misc.reindex(residential_units, blocks.node_id),\n",
      "                                  'ppu':misc.reindex(persons_per_unit, blocks.node_id),\n",
      "                                  'jpr':misc.reindex(jobs_per_resunit, blocks.node_id),\n",
      "                                  })"
     ],
     "language": "python",
     "metadata": {},
     "outputs": [],
     "prompt_number": 13
    },
    {
     "cell_type": "code",
     "collapsed": false,
     "input": [
      "blocks_for_export.to_csv(\"access_indicator.csv\")"
     ],
     "language": "python",
     "metadata": {},
     "outputs": [],
     "prompt_number": 14
    }
   ],
   "metadata": {}
  }
 ]
}